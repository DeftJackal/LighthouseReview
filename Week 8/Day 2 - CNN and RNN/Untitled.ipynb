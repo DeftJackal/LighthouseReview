{
 "cells": [
  {
   "cell_type": "code",
   "execution_count": 1,
   "id": "structured-aerospace",
   "metadata": {},
   "outputs": [
    {
     "name": "stdout",
     "output_type": "stream",
     "text": [
      "Populating the interactive namespace from numpy and matplotlib\n"
     ]
    }
   ],
   "source": [
    "%pylab inline\n",
    "\n",
    "import math\n",
    "import numpy as np"
   ]
  },
  {
   "cell_type": "code",
   "execution_count": 2,
   "id": "adverse-feelings",
   "metadata": {},
   "outputs": [
    {
     "data": {
      "text/plain": [
       "[<matplotlib.lines.Line2D at 0x1f8a173d130>]"
      ]
     },
     "execution_count": 2,
     "metadata": {},
     "output_type": "execute_result"
    },
    {
     "data": {
      "image/png": "[encoded data removed]",
      "text/plain": [
       "<Figure size 432x288 with 1 Axes>"
      ]
     },
     "metadata": {
      "needs_background": "light"
     },
     "output_type": "display_data"
    }
   ],
   "source": [
    "sin_wave = np.array([math.sin(x) for x in np.arange(200)])\n",
    "plt.plot(sin_wave[:50])\n"
   ]
  },
  {
   "cell_type": "code",
   "execution_count": 3,
   "id": "stable-emerald",
   "metadata": {},
   "outputs": [],
   "source": [
    "X = []\n",
    "Y = []\n",
    "\n",
    "seq_len = 50\n",
    "num_records = len(sin_wave) - seq_len\n",
    "\n",
    "for i in range(num_records - 50):\n",
    "    X.append(sin_wave[i:i+seq_len])\n",
    "    Y.append(sin_wave[i+seq_len])\n",
    "    \n",
    "X = np.array(X)\n",
    "X = np.expand_dims(X, axis=2)\n",
    "\n",
    "Y = np.array(Y)\n",
    "Y = np.expand_dims(Y, axis=1)"
   ]
  },
  {
   "cell_type": "code",
   "execution_count": 4,
   "id": "electric-gallery",
   "metadata": {},
   "outputs": [
    {
     "data": {
      "text/plain": [
       "((100, 50, 1), (100, 1))"
      ]
     },
     "execution_count": 4,
     "metadata": {},
     "output_type": "execute_result"
    }
   ],
   "source": [
    "X.shape, Y.shape"
   ]
  },
  {
   "cell_type": "code",
   "execution_count": 5,
   "id": "curious-tracy",
   "metadata": {},
   "outputs": [],
   "source": [
    "X_val = []\n",
    "Y_val = []\n",
    "\n",
    "for i in range(num_records - 50, num_records):\n",
    "    X_val.append(sin_wave[i:i+seq_len])\n",
    "    Y_val.append(sin_wave[i+seq_len])\n",
    "    \n",
    "X_val = np.array(X_val)\n",
    "X_val = np.expand_dims(X_val, axis=2)\n",
    "\n",
    "Y_val = np.array(Y_val)\n",
    "Y_val = np.expand_dims(Y_val, axis=1)"
   ]
  },
  {
   "cell_type": "code",
   "execution_count": 6,
   "id": "several-shelter",
   "metadata": {},
   "outputs": [
    {
     "data": {
      "text/plain": [
       "((50, 50, 1), (50, 1))"
      ]
     },
     "execution_count": 6,
     "metadata": {},
     "output_type": "execute_result"
    }
   ],
   "source": [
    "X_val.shape, Y_val.shape"
   ]
  },
  {
   "cell_type": "code",
   "execution_count": 7,
   "id": "assured-flood",
   "metadata": {},
   "outputs": [],
   "source": [
    "learning_rate = 0.0001    \n",
    "nepoch = 25               \n",
    "T = 50                   # length of sequence\n",
    "hidden_dim = 100         \n",
    "output_dim = 1\n",
    "\n",
    "bptt_truncate = 5\n",
    "min_clip_value = -10\n",
    "max_clip_value = 10"
   ]
  },
  {
   "cell_type": "code",
   "execution_count": 8,
   "id": "greater-consumer",
   "metadata": {},
   "outputs": [],
   "source": [
    "U = np.random.uniform(0, 1, (hidden_dim, T))\n",
    "W = np.random.uniform(0, 1, (hidden_dim, hidden_dim))\n",
    "V = np.random.uniform(0, 1, (output_dim, hidden_dim))"
   ]
  },
  {
   "cell_type": "code",
   "execution_count": 9,
   "id": "residential-connecticut",
   "metadata": {},
   "outputs": [],
   "source": [
    "def sigmoid(x):\n",
    "    return 1 / (1 + np.exp(-x))"
   ]
  },
  {
   "cell_type": "code",
   "execution_count": 10,
   "id": "competitive-arnold",
   "metadata": {},
   "outputs": [
    {
     "name": "stdout",
     "output_type": "stream",
     "text": [
      "Epoch:  1 , Loss:  [[111125.76209082]] , Val Loss:  [[55561.02302206]]\n",
      "Epoch:  2 , Loss:  [[68987.49013599]] , Val Loss:  [[34492.27281871]]\n",
      "Epoch:  3 , Loss:  [[36849.21818107]] , Val Loss:  [[18423.52261531]]\n",
      "Epoch:  4 , Loss:  [[14710.94573481]] , Val Loss:  [[7354.7721666]]\n",
      "Epoch:  5 , Loss:  [[2574.72831672]] , Val Loss:  [[1287.05585026]]\n",
      "Epoch:  6 , Loss:  [[51.99065411]] , Val Loss:  [[25.97494289]]\n",
      "Epoch:  7 , Loss:  [[48.52223494]] , Val Loss:  [[24.26075393]]\n",
      "Epoch:  8 , Loss:  [[48.45584119]] , Val Loss:  [[24.22787033]]\n",
      "Epoch:  9 , Loss:  [[49.00421296]] , Val Loss:  [[24.49914722]]\n",
      "Epoch:  10 , Loss:  [[48.52115977]] , Val Loss:  [[24.26019309]]\n",
      "Epoch:  11 , Loss:  [[48.77446158]] , Val Loss:  [[24.38456598]]\n",
      "Epoch:  12 , Loss:  [[50.01303473]] , Val Loss:  [[24.99920912]]\n",
      "Epoch:  13 , Loss:  [[48.88445504]] , Val Loss:  [[24.44067973]]\n",
      "Epoch:  14 , Loss:  [[48.38106326]] , Val Loss:  [[24.19045469]]\n",
      "Epoch:  15 , Loss:  [[48.13583447]] , Val Loss:  [[24.06780552]]\n",
      "Epoch:  16 , Loss:  [[48.50938288]] , Val Loss:  [[24.25284212]]\n",
      "Epoch:  17 , Loss:  [[48.57288137]] , Val Loss:  [[24.28561054]]\n",
      "Epoch:  18 , Loss:  [[48.72043418]] , Val Loss:  [[24.361222]]\n",
      "Epoch:  19 , Loss:  [[48.47266689]] , Val Loss:  [[24.23280881]]\n",
      "Epoch:  20 , Loss:  [[49.16859014]] , Val Loss:  [[24.58146045]]\n",
      "Epoch:  21 , Loss:  [[48.36125357]] , Val Loss:  [[24.18102836]]\n",
      "Epoch:  22 , Loss:  [[48.49588521]] , Val Loss:  [[24.24652962]]\n",
      "Epoch:  23 , Loss:  [[49.10616986]] , Val Loss:  [[24.54934789]]\n",
      "Epoch:  24 , Loss:  [[48.40693024]] , Val Loss:  [[24.20281006]]\n",
      "Epoch:  25 , Loss:  [[48.35871645]] , Val Loss:  [[24.17759971]]\n"
     ]
    }
   ],
   "source": [
    "for epoch in range(nepoch):\n",
    "    # check loss on train\n",
    "    loss = 0.0\n",
    "    \n",
    "    # do a forward pass to get prediction\n",
    "    for i in range(Y.shape[0]):\n",
    "        x, y = X[i], Y[i]                    # get input, output values of each record\n",
    "        prev_s = np.zeros((hidden_dim, 1))   # here, prev-s is the value of the previous activation of hidden layer; which is initialized as all zeroes\n",
    "        for t in range(T):\n",
    "            new_input = np.zeros(x.shape)    # we then do a forward pass for every timestep in the sequence\n",
    "            new_input[t] = x[t]              # for this, we define a single input for that timestep\n",
    "            mulu = np.dot(U, new_input)\n",
    "            mulw = np.dot(W, prev_s)\n",
    "            add = mulw + mulu\n",
    "            s = sigmoid(add)\n",
    "            mulv = np.dot(V, s)\n",
    "            prev_s = s\n",
    "\n",
    "    # calculate error \n",
    "        loss_per_record = (y - mulv)**2 / 2\n",
    "        loss += loss_per_record\n",
    "    loss = loss / float(y.shape[0])\n",
    "     # check loss on val\n",
    "    val_loss = 0.0\n",
    "    for i in range(Y_val.shape[0]):\n",
    "        x, y = X_val[i], Y_val[i]\n",
    "        prev_s = np.zeros((hidden_dim, 1))\n",
    "        for t in range(T):\n",
    "            new_input = np.zeros(x.shape)\n",
    "            new_input[t] = x[t]\n",
    "            mulu = np.dot(U, new_input)\n",
    "            mulw = np.dot(W, prev_s)\n",
    "            add = mulw + mulu\n",
    "            s = sigmoid(add)\n",
    "            mulv = np.dot(V, s)\n",
    "            prev_s = s\n",
    "\n",
    "        loss_per_record = (y - mulv)**2 / 2\n",
    "        val_loss += loss_per_record\n",
    "    val_loss = val_loss / float(y.shape[0])\n",
    "\n",
    "    print('Epoch: ', epoch + 1, ', Loss: ', loss, ', Val Loss: ', val_loss)\n",
    "     # train model\n",
    "    for i in range(Y.shape[0]):\n",
    "        x, y = X[i], Y[i]\n",
    "    \n",
    "        layers = []\n",
    "        prev_s = np.zeros((hidden_dim, 1))\n",
    "        dU = np.zeros(U.shape)\n",
    "        dV = np.zeros(V.shape)\n",
    "        dW = np.zeros(W.shape)\n",
    "        \n",
    "        dU_t = np.zeros(U.shape)\n",
    "        dV_t = np.zeros(V.shape)\n",
    "        dW_t = np.zeros(W.shape)\n",
    "        \n",
    "        dU_i = np.zeros(U.shape)\n",
    "        dW_i = np.zeros(W.shape)\n",
    "        \n",
    "        # forward pass\n",
    "        for t in range(T):\n",
    "            new_input = np.zeros(x.shape)\n",
    "            new_input[t] = x[t]\n",
    "            mulu = np.dot(U, new_input)\n",
    "            mulw = np.dot(W, prev_s)\n",
    "            add = mulw + mulu\n",
    "            s = sigmoid(add)\n",
    "            mulv = np.dot(V, s)\n",
    "            layers.append({'s':s, 'prev_s':prev_s})\n",
    "            prev_s = s\n",
    "        # derivative of pred\n",
    "        dmulv = (mulv - y)\n",
    "        \n",
    "        # backward pass\n",
    "        for t in range(T):\n",
    "            dV_t = np.dot(dmulv, np.transpose(layers[t]['s']))\n",
    "            dsv = np.dot(np.transpose(V), dmulv)\n",
    "            \n",
    "            ds = dsv\n",
    "            dadd = add * (1 - add) * ds\n",
    "            \n",
    "            dmulw = dadd * np.ones_like(mulw)\n",
    "\n",
    "            dprev_s = np.dot(np.transpose(W), dmulw)\n",
    "\n",
    "\n",
    "            for i in range(t-1, max(-1, t-bptt_truncate-1), -1):\n",
    "                ds = dsv + dprev_s\n",
    "                dadd = add * (1 - add) * ds\n",
    "\n",
    "                dmulw = dadd * np.ones_like(mulw)\n",
    "                dmulu = dadd * np.ones_like(mulu)\n",
    "\n",
    "                dW_i = np.dot(W, layers[t]['prev_s'])\n",
    "                dprev_s = np.dot(np.transpose(W), dmulw)\n",
    "\n",
    "                new_input = np.zeros(x.shape)\n",
    "                new_input[t] = x[t]\n",
    "                dU_i = np.dot(U, new_input)\n",
    "                dx = np.dot(np.transpose(U), dmulu)\n",
    "\n",
    "                dU_t += dU_i\n",
    "                dW_t += dW_i\n",
    "                \n",
    "            dV += dV_t\n",
    "            dU += dU_t\n",
    "            dW += dW_t\n",
    "            if dU.max() > max_clip_value:\n",
    "                dU[dU > max_clip_value] = max_clip_value\n",
    "            if dV.max() > max_clip_value:\n",
    "                dV[dV > max_clip_value] = max_clip_value\n",
    "            if dW.max() > max_clip_value:\n",
    "                dW[dW > max_clip_value] = max_clip_value\n",
    "                \n",
    "            \n",
    "            if dU.min() < min_clip_value:\n",
    "                dU[dU < min_clip_value] = min_clip_value\n",
    "            if dV.min() < min_clip_value:\n",
    "                dV[dV < min_clip_value] = min_clip_value\n",
    "            if dW.min() < min_clip_value:\n",
    "                dW[dW < min_clip_value] = min_clip_value\n",
    "        \n",
    "        # update\n",
    "        U -= learning_rate * dU\n",
    "        V -= learning_rate * dV\n",
    "        W -= learning_rate * dW"
   ]
  },
  {
   "cell_type": "code",
   "execution_count": 11,
   "id": "endless-inspiration",
   "metadata": {},
   "outputs": [],
   "source": [
    "preds = []\n",
    "for i in range(Y.shape[0]):\n",
    "    x, y = X[i], Y[i]\n",
    "    prev_s = np.zeros((hidden_dim, 1))\n",
    "    # Forward pass\n",
    "    for t in range(T):\n",
    "        mulu = np.dot(U, x)\n",
    "        mulw = np.dot(W, prev_s)\n",
    "        add = mulw + mulu\n",
    "        s = sigmoid(add)\n",
    "        mulv = np.dot(V, s)\n",
    "        prev_s = s\n",
    "\n",
    "    preds.append(mulv)\n",
    "    \n",
    "preds = np.array(preds)"
   ]
  },
  {
   "cell_type": "code",
   "execution_count": 12,
   "id": "exclusive-teaching",
   "metadata": {},
   "outputs": [
    {
     "data": {
      "image/png": "[encoded data removed]",
      "text/plain": [
       "<Figure size 432x288 with 1 Axes>"
      ]
     },
     "metadata": {
      "needs_background": "light"
     },
     "output_type": "display_data"
    }
   ],
   "source": [
    "plt.plot(preds[:, 0, 0], 'g')\n",
    "plt.plot(Y[:, 0], 'r')\n",
    "plt.show()"
   ]
  },
  {
   "cell_type": "code",
   "execution_count": null,
   "id": "occasional-letters",
   "metadata": {},
   "outputs": [],
   "source": []
  },
  {
   "cell_type": "code",
   "execution_count": null,
   "id": "cellular-garlic",
   "metadata": {},
   "outputs": [],
   "source": []
  },
  {
   "cell_type": "code",
   "execution_count": null,
   "id": "conditional-feedback",
   "metadata": {},
   "outputs": [],
   "source": []
  },
  {
   "cell_type": "code",
   "execution_count": null,
   "id": "civilian-movement",
   "metadata": {},
   "outputs": [],
   "source": []
  },
  {
   "cell_type": "code",
   "execution_count": null,
   "id": "taken-beach",
   "metadata": {},
   "outputs": [],
   "source": []
  },
  {
   "cell_type": "code",
   "execution_count": null,
   "id": "treated-lithuania",
   "metadata": {},
   "outputs": [],
   "source": []
  },
  {
   "cell_type": "code",
   "execution_count": null,
   "id": "aquatic-macro",
   "metadata": {},
   "outputs": [],
   "source": []
  },
  {
   "cell_type": "code",
   "execution_count": null,
   "id": "turned-courtesy",
   "metadata": {},
   "outputs": [],
   "source": []
  },
  {
   "cell_type": "code",
   "execution_count": null,
   "id": "controversial-shark",
   "metadata": {},
   "outputs": [],
   "source": []
  }
 ],
 "metadata": {
  "kernelspec": {
   "display_name": "Tensorflow2",
   "language": "python",
   "name": "tensorflow2"
  },
  "language_info": {
   "codemirror_mode": {
    "name": "ipython",
    "version": 3
   },
   "file_extension": ".py",
   "mimetype": "text/x-python",
   "name": "python",
   "nbconvert_exporter": "python",
   "pygments_lexer": "ipython3",
   "version": "3.8.5"
  }
 },
 "nbformat": 4,
 "nbformat_minor": 5
}
