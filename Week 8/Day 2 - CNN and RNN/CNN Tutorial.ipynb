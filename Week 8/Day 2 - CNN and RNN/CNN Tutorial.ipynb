{
 "cells": [
  {
   "cell_type": "code",
   "execution_count": null,
   "id": "dutch-israel",
   "metadata": {},
   "outputs": [],
   "source": [
    "# Import modules and dataset. For CNN networks, we have to make sure to include convolution, maxpooling and flatten. Our dataset that we use is presplit and provided at: \n",
    "# https://drive.google.com/file/d/1FTCTZaNkgmAyoQ2pZYR4LKxcXI4bLp00/view?usp=sharing"
   ]
  },
  {
   "cell_type": "code",
   "execution_count": 1,
   "id": "associate-shock",
   "metadata": {},
   "outputs": [],
   "source": [
    "from tensorflow.keras.models import Sequential\n",
    "from tensorflow.keras.layers import Convolution2D\n",
    "from tensorflow.keras.layers import MaxPooling2D\n",
    "from tensorflow.keras.layers import Flatten\n",
    "from tensorflow.keras.layers import Dense"
   ]
  },
  {
   "cell_type": "code",
   "execution_count": null,
   "id": "inappropriate-alliance",
   "metadata": {},
   "outputs": [],
   "source": [
    "# Building our network. Convolution will learn pieces of the image by itself. Pooling is a premeditated method of compressing, and is cheap computationally.\n",
    "# Our network here uses both, but uses convolution first. This allows the network to learn with the convolution layer and then downsample further for processing. \n",
    "# Research suggests that convolution networks with larger strides may perform better than pooling, but we have not incorporated taht into this netwok. "
   ]
  },
  {
   "cell_type": "code",
   "execution_count": 2,
   "id": "everyday-tunisia",
   "metadata": {},
   "outputs": [],
   "source": [
    "classifier = Sequential()"
   ]
  },
  {
   "cell_type": "code",
   "execution_count": null,
   "id": "clear-flood",
   "metadata": {},
   "outputs": [],
   "source": [
    "# The convolution inputs are : filters(size of output space), Kernel size(size of the convolution window), and strides(how far to move each convolution window).\n",
    "# Observe that we input a 64x64 layer and get out a 32x32 layer"
   ]
  },
  {
   "cell_type": "code",
   "execution_count": 3,
   "id": "comparative-banking",
   "metadata": {},
   "outputs": [],
   "source": [
    "classifier.add(Convolution2D(32,3,3,input_shape=(64,64,3), activation = 'relu'))"
   ]
  },
  {
   "cell_type": "code",
   "execution_count": null,
   "id": "structural-blend",
   "metadata": {},
   "outputs": [],
   "source": [
    "# Our pooling layer will convert a 4 pixel window down to one pixel. "
   ]
  },
  {
   "cell_type": "code",
   "execution_count": 4,
   "id": "adapted-individual",
   "metadata": {},
   "outputs": [],
   "source": [
    "classifier.add(MaxPooling2D(pool_size = (2,2)))"
   ]
  },
  {
   "cell_type": "code",
   "execution_count": null,
   "id": "absolute-rebound",
   "metadata": {},
   "outputs": [],
   "source": [
    "# After the image has been compressed we flatten out the image into a 1 d array, we can then connect this to a normal neural network and see the results. \n",
    "# You can envision the convolution and pooling as a preprocessing step to a normal network for images or image like data(sound data can have be used here as well)"
   ]
  },
  {
   "cell_type": "code",
   "execution_count": 5,
   "id": "dutch-poverty",
   "metadata": {},
   "outputs": [],
   "source": [
    "classifier.add(Flatten())"
   ]
  },
  {
   "cell_type": "code",
   "execution_count": 6,
   "id": "extreme-alberta",
   "metadata": {},
   "outputs": [],
   "source": [
    "classifier.add(Dense(128, activation = 'relu'))\n",
    "classifier.add(Dense(1, activation = 'sigmoid'))\n",
    "classifier.compile(optimizer = 'adam', loss = 'binary_crossentropy', metrics = ['accuracy'])"
   ]
  },
  {
   "cell_type": "code",
   "execution_count": null,
   "id": "beneficial-contents",
   "metadata": {},
   "outputs": [],
   "source": [
    "# A common step in image recognition is to increase your data set by making small alterations to your original data set like flips or translations. \n",
    "# Note that we rescale the color to make it greyscale."
   ]
  },
  {
   "cell_type": "code",
   "execution_count": 8,
   "id": "younger-bangkok",
   "metadata": {},
   "outputs": [],
   "source": [
    "from tensorflow.keras.preprocessing.image import ImageDataGenerator"
   ]
  },
  {
   "cell_type": "code",
   "execution_count": 9,
   "id": "optimum-cross",
   "metadata": {},
   "outputs": [],
   "source": [
    "train_datagen = ImageDataGenerator(\n",
    "    rescale=1./255, \n",
    "    shear_range=0.2,\n",
    "    zoom_range=0.2,\n",
    "    horizontal_flip = True)\n",
    "\n",
    "test_datagen = ImageDataGenerator(rescale=1./255)"
   ]
  },
  {
   "cell_type": "code",
   "execution_count": null,
   "id": "micro-exchange",
   "metadata": {},
   "outputs": [],
   "source": [
    "# Load our dataset using test_datagen.flow_from_directory function. "
   ]
  },
  {
   "cell_type": "code",
   "execution_count": 10,
   "id": "accessible-feeling",
   "metadata": {},
   "outputs": [
    {
     "name": "stdout",
     "output_type": "stream",
     "text": [
      "Found 5319 images belonging to 2 classes.\n",
      "Found 2032 images belonging to 2 classes.\n"
     ]
    }
   ],
   "source": [
    "training_set=test_datagen.flow_from_directory(\n",
    "    'training_set',\n",
    "    target_size=(64,64),\n",
    "    batch_size=32, \n",
    "    class_mode = 'binary',\n",
    "    shuffle = True)\n",
    "\n",
    "test_set = test_datagen.flow_from_directory(\n",
    "    'test_set',\n",
    "    target_size=(64,64),\n",
    "    batch_size = 32,\n",
    "    class_mode='binary')\n"
   ]
  },
  {
   "cell_type": "code",
   "execution_count": 10,
   "id": "political-typing",
   "metadata": {},
   "outputs": [],
   "source": [
    "#Time to fit our model. Note the addition of the steps per epoch parameter. This determines how many batches we look at per epoch with one step calculating one batch of samples. "
   ]
  },
  {
   "cell_type": "code",
   "execution_count": 11,
   "id": "limited-stomach",
   "metadata": {},
   "outputs": [
    {
     "name": "stdout",
     "output_type": "stream",
     "text": [
      "WARNING:tensorflow:From <ipython-input-11-247843d16dd5>:1: Model.fit_generator (from tensorflow.python.keras.engine.training) is deprecated and will be removed in a future version.\n",
      "Instructions for updating:\n",
      "Please use Model.fit, which supports generators.\n",
      "Epoch 1/20\n",
      "50/50 [==============================] - 11s 218ms/step - loss: 0.5866 - accuracy: 0.7481 - val_loss: 0.8584 - val_accuracy: 0.5015\n",
      "Epoch 2/20\n",
      "50/50 [==============================] - 10s 195ms/step - loss: 0.5210 - accuracy: 0.7656 - val_loss: 0.8055 - val_accuracy: 0.5015\n",
      "Epoch 3/20\n",
      "50/50 [==============================] - 10s 199ms/step - loss: 0.5298 - accuracy: 0.7450 - val_loss: 0.8158 - val_accuracy: 0.5015\n",
      "Epoch 4/20\n",
      "50/50 [==============================] - 9s 189ms/step - loss: 0.5216 - accuracy: 0.7538 - val_loss: 0.8104 - val_accuracy: 0.5034\n",
      "Epoch 5/20\n",
      "50/50 [==============================] - 10s 193ms/step - loss: 0.5019 - accuracy: 0.7587 - val_loss: 0.7284 - val_accuracy: 0.5157\n",
      "Epoch 6/20\n",
      "50/50 [==============================] - 10s 205ms/step - loss: 0.4847 - accuracy: 0.7631 - val_loss: 0.8380 - val_accuracy: 0.5133\n",
      "Epoch 7/20\n",
      "50/50 [==============================] - 10s 201ms/step - loss: 0.4705 - accuracy: 0.7656 - val_loss: 0.7628 - val_accuracy: 0.5281\n",
      "Epoch 8/20\n",
      "50/50 [==============================] - 9s 179ms/step - loss: 0.4607 - accuracy: 0.7695 - val_loss: 0.8073 - val_accuracy: 0.5477\n",
      "Epoch 9/20\n",
      "50/50 [==============================] - 9s 187ms/step - loss: 0.4347 - accuracy: 0.8025 - val_loss: 0.6522 - val_accuracy: 0.6304\n",
      "Epoch 10/20\n",
      "50/50 [==============================] - 10s 190ms/step - loss: 0.4495 - accuracy: 0.7919 - val_loss: 0.7185 - val_accuracy: 0.5832\n",
      "Epoch 11/20\n",
      "50/50 [==============================] - 9s 181ms/step - loss: 0.4488 - accuracy: 0.7781 - val_loss: 0.8585 - val_accuracy: 0.5458\n",
      "Epoch 12/20\n",
      "50/50 [==============================] - 10s 199ms/step - loss: 0.4208 - accuracy: 0.8013 - val_loss: 0.7514 - val_accuracy: 0.5896\n",
      "Epoch 13/20\n",
      "50/50 [==============================] - 9s 187ms/step - loss: 0.4047 - accuracy: 0.8094 - val_loss: 0.6825 - val_accuracy: 0.6319\n",
      "Epoch 14/20\n",
      "50/50 [==============================] - 9s 182ms/step - loss: 0.3955 - accuracy: 0.8200 - val_loss: 0.8994 - val_accuracy: 0.5531\n",
      "Epoch 15/20\n",
      "50/50 [==============================] - 9s 184ms/step - loss: 0.3802 - accuracy: 0.8248 - val_loss: 0.8084 - val_accuracy: 0.5955\n",
      "Epoch 16/20\n",
      "50/50 [==============================] - 9s 187ms/step - loss: 0.4019 - accuracy: 0.8114 - val_loss: 0.7097 - val_accuracy: 0.6314\n",
      "Epoch 17/20\n",
      "50/50 [==============================] - 9s 184ms/step - loss: 0.3815 - accuracy: 0.8269 - val_loss: 0.6421 - val_accuracy: 0.6860\n",
      "Epoch 18/20\n",
      "50/50 [==============================] - 9s 189ms/step - loss: 0.3986 - accuracy: 0.8188 - val_loss: 0.7815 - val_accuracy: 0.6117\n",
      "Epoch 19/20\n",
      "50/50 [==============================] - 10s 191ms/step - loss: 0.3263 - accuracy: 0.8681 - val_loss: 0.7331 - val_accuracy: 0.6437\n",
      "Epoch 20/20\n",
      "50/50 [==============================] - 9s 181ms/step - loss: 0.3620 - accuracy: 0.8438 - val_loss: 0.7889 - val_accuracy: 0.6280\n"
     ]
    }
   ],
   "source": [
    "history = classifier.fit_generator(\n",
    "    training_set,\n",
    "    steps_per_epoch = 50,\n",
    "    epochs = 20,\n",
    "    validation_data=test_set)"
   ]
  },
  {
   "cell_type": "code",
   "execution_count": null,
   "id": "transsexual-sister",
   "metadata": {},
   "outputs": [],
   "source": [
    "# To see how our model is learning over time, it is best to plot the loss on the training and the validation steps below. "
   ]
  },
  {
   "cell_type": "code",
   "execution_count": 12,
   "id": "pleasant-citizenship",
   "metadata": {},
   "outputs": [
    {
     "data": {
      "image/png": "[encoded data removed]",
      "text/plain": [
       "<Figure size 432x288 with 1 Axes>"
      ]
     },
     "metadata": {
      "needs_background": "light"
     },
     "output_type": "display_data"
    }
   ],
   "source": [
    "from matplotlib import pyplot as plt\n",
    "# plot history\n",
    "plt.plot(history.history['loss'], label='train')\n",
    "plt.plot(history.history['val_loss'], label='test')\n",
    "plt.legend()\n",
    "plt.show()"
   ]
  },
  {
   "cell_type": "code",
   "execution_count": null,
   "id": "suspected-improvement",
   "metadata": {},
   "outputs": [],
   "source": [
    "# Our model learns the trainig set quickly, but has difficulty with the test set. We cna try to increase the layers or parameters in our network to try to improve this.  "
   ]
  },
  {
   "cell_type": "code",
   "execution_count": null,
   "id": "secret-reproduction",
   "metadata": {},
   "outputs": [],
   "source": [
    "# We can test our model with a random test image below. Note we need a 64x64 resolution image for this test. "
   ]
  },
  {
   "cell_type": "code",
   "execution_count": 16,
   "id": "professional-ebony",
   "metadata": {},
   "outputs": [
    {
     "name": "stdout",
     "output_type": "stream",
     "text": [
      "dog\n"
     ]
    }
   ],
   "source": [
    "import numpy as np\n",
    "from tensorflow.keras.preprocessing import image\n",
    "# loading an image from the disk\n",
    "test_image = image.load_img('RandomDog.png', target_size = (64, 64))\n",
    "# converting the image to a numpy array\n",
    "test_image = image.img_to_array(test_image)\n",
    "test_image = np.expand_dims(test_image, axis = 0)\n",
    "result = classifier.predict(test_image)\n",
    "# print(training_set.class_indices)\n",
    "# our cut-off\n",
    "if result[0][0] >= 0.5:\n",
    "    prediction = 'dog'\n",
    "else:\n",
    "    prediction = 'cat'\n",
    "print(prediction)"
   ]
  },
  {
   "cell_type": "code",
   "execution_count": null,
   "id": "average-billion",
   "metadata": {},
   "outputs": [],
   "source": []
  },
  {
   "cell_type": "code",
   "execution_count": null,
   "id": "approximate-contents",
   "metadata": {},
   "outputs": [],
   "source": []
  }
 ],
 "metadata": {
  "kernelspec": {
   "display_name": "Python 3",
   "language": "python",
   "name": "python3"
  },
  "language_info": {
   "codemirror_mode": {
    "name": "ipython",
    "version": 3
   },
   "file_extension": ".py",
   "mimetype": "text/x-python",
   "name": "python",
   "nbconvert_exporter": "python",
   "pygments_lexer": "ipython3",
   "version": "3.8.5"
  }
 },
 "nbformat": 4,
 "nbformat_minor": 5
}
