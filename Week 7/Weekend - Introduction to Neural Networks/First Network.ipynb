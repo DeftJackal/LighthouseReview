{
 "cells": [
  {
   "cell_type": "code",
   "execution_count": 18,
   "id": "original-serve",
   "metadata": {},
   "outputs": [],
   "source": [
    "# Load the basic modules. Note that keras is now a part of tensorflow and to load the Keras packages, they need to be prepended with tensorflow."
   ]
  },
  {
   "cell_type": "code",
   "execution_count": 19,
   "id": "academic-chest",
   "metadata": {},
   "outputs": [],
   "source": [
    "from tensorflow.keras.datasets import mnist\n",
    "from tensorflow.keras import models\n",
    "from tensorflow.keras import layers\n",
    "from tensorflow.keras.utils import to_categorical"
   ]
  },
  {
   "cell_type": "code",
   "execution_count": 20,
   "id": "wicked-thesaurus",
   "metadata": {},
   "outputs": [],
   "source": [
    "# MNIST includes a number dataset in the keras module. We import that here and view the shape of the data in the next cell. \n",
    "(train_images, train_labels), (test_images, test_labels) = mnist.load_data()"
   ]
  },
  {
   "cell_type": "code",
   "execution_count": 21,
   "id": "lightweight-jefferson",
   "metadata": {},
   "outputs": [
    {
     "name": "stdout",
     "output_type": "stream",
     "text": [
      "(60000, 28, 28)\n",
      "(60000,)\n"
     ]
    }
   ],
   "source": [
    "print(train_images.shape)\n",
    "print(train_labels.shape)"
   ]
  },
  {
   "cell_type": "code",
   "execution_count": 22,
   "id": "wired-learning",
   "metadata": {},
   "outputs": [],
   "source": [
    "%matplotlib inline"
   ]
  },
  {
   "cell_type": "code",
   "execution_count": 23,
   "id": "scheduled-quilt",
   "metadata": {},
   "outputs": [
    {
     "name": "stdout",
     "output_type": "stream",
     "text": [
      "0\n"
     ]
    },
    {
     "data": {
      "image/png": "[encoded data removed]",
      "text/plain": [
       "<Figure size 432x288 with 1 Axes>"
      ]
     },
     "metadata": {
      "needs_background": "light"
     },
     "output_type": "display_data"
    }
   ],
   "source": [
    "from matplotlib import pyplot as plt\n",
    "data = train_images[1]\n",
    "plt.imshow(data, interpolation='nearest')\n",
    "print(train_labels[1])\n",
    "plt.show()"
   ]
  },
  {
   "cell_type": "code",
   "execution_count": 24,
   "id": "educated-primary",
   "metadata": {},
   "outputs": [],
   "source": [
    "# We establish our basic Neural network here. Our model is 3 layers deep, with each layer fully connected to the next layer. \n",
    "# We have one node in the first two layers for each pixel of our image data, and use the relu activation function to determine the nodes that are on. (784 is 28*28)\n",
    "# The third layer has 10 nodes (one for each digit) to choose our outputs. \n",
    "# A final feature of neural networks is the compile function, which combines all of our layers with a loss funciton and a metric to determine the back propogations.\n",
    "# After this cell, our network is ready to train. "
   ]
  },
  {
   "cell_type": "code",
   "execution_count": null,
   "id": "little-budget",
   "metadata": {},
   "outputs": [],
   "source": [
    "network = models.Sequential()\n",
    "network.add(layers.Dense(784, activation='relu', input_shape=(28 * 28,)))\n",
    "network.add(layers.Dense(784, activation='relu', input_shape=(28 * 28,)))\n",
    "network.add(layers.Dense(10, activation='softmax'))\n",
    "network.compile(optimizer='adam',\n",
    "                loss='categorical_crossentropy',\n",
    "                metrics=['accuracy'])"
   ]
  },
  {
   "cell_type": "code",
   "execution_count": null,
   "id": "partial-beginning",
   "metadata": {},
   "outputs": [],
   "source": [
    "# We need to reshape our image data to be able to feed it into our neural network. \n",
    "# We convert from the data shape from [60000, 28, 28] to [60000, 784].\n",
    "# We divide by 255 to convert from color into greyscale."
   ]
  },
  {
   "cell_type": "code",
   "execution_count": null,
   "id": "raised-synthetic",
   "metadata": {},
   "outputs": [],
   "source": [
    "train_images = train_images.reshape((60000, 28 * 28))\n",
    "train_images = train_images.astype('float32') / 255\n",
    "test_images = test_images.reshape((10000, 28 * 28))\n",
    "test_images = test_images.astype('float32') / 255"
   ]
  },
  {
   "cell_type": "code",
   "execution_count": null,
   "id": "demanding-elder",
   "metadata": {},
   "outputs": [],
   "source": [
    "# Convert our label array into categorical array. "
   ]
  },
  {
   "cell_type": "code",
   "execution_count": null,
   "id": "complimentary-profile",
   "metadata": {},
   "outputs": [],
   "source": [
    "train_labels = to_categorical(train_labels)\n",
    "test_labels = to_categorical(test_labels)"
   ]
  },
  {
   "cell_type": "code",
   "execution_count": null,
   "id": "fourth-drill",
   "metadata": {},
   "outputs": [],
   "source": [
    "# We fit our model here. \n",
    "# Unlike in machine learning models, neural networks build and improve on the previous runs. We can generally increase the accuracy of our network by increasing the number of epochs. \n",
    "# Batch_size is number of training examples in a single fitting. Higher batch sizes will increase the estimate of the gradient, lower batch sizes will genreally increase run speed. "
   ]
  },
  {
   "cell_type": "code",
   "execution_count": null,
   "id": "pretty-arrest",
   "metadata": {},
   "outputs": [],
   "source": [
    "network.fit(train_images, train_labels, epochs=5, batch_size=64)"
   ]
  },
  {
   "cell_type": "code",
   "execution_count": null,
   "id": "square-thomson",
   "metadata": {},
   "outputs": [],
   "source": [
    "# We can now test our network on the data it has never seen, the test set we seperated at the beginning. \n",
    "# We expect an accuracy of ~98%, which is much higher than conventional ml with a very low amount of work. "
   ]
  },
  {
   "cell_type": "code",
   "execution_count": null,
   "id": "spare-integer",
   "metadata": {},
   "outputs": [],
   "source": [
    "test_loss, test_acc = network.evaluate(test_images, test_labels)\n",
    "print('test_acc:', test_acc, 'test_loss', test_loss)"
   ]
  },
  {
   "cell_type": "code",
   "execution_count": null,
   "id": "fantastic-villa",
   "metadata": {},
   "outputs": [],
   "source": []
  },
  {
   "cell_type": "code",
   "execution_count": null,
   "id": "desperate-grill",
   "metadata": {},
   "outputs": [],
   "source": []
  }
 ],
 "metadata": {
  "kernelspec": {
   "display_name": "Tensorflow2",
   "language": "python",
   "name": "tensorflow2"
  },
  "language_info": {
   "codemirror_mode": {
    "name": "ipython",
    "version": 3
   },
   "file_extension": ".py",
   "mimetype": "text/x-python",
   "name": "python",
   "nbconvert_exporter": "python",
   "pygments_lexer": "ipython3",
   "version": "3.8.5"
  }
 },
 "nbformat": 4,
 "nbformat_minor": 5
}
