{
 "cells": [
  {
   "cell_type": "markdown",
   "metadata": {},
   "source": [
    "## Poker Hand\n",
    "\n",
    "In this challenge, we have to find out which kind of Poker combination is present in a deck of 5 cards.Every card is a string containing the card value (with the upper-case initial for face-cards) and the lower-case initial for suits, as in the examples below:\n",
    "\n",
    "> \"Ah\" ➞ Ace of hearts <br>\n",
    "> \"Ks\" ➞ King of spades<br>\n",
    "> \"3d\" ➞ Three of diamonds<br>\n",
    "> \"Qc\" ➞ Queen of clubs <br>\n",
    "\n",
    "There are 10 different combinations. Here's the list, in decreasing order of importance:"
   ]
  },
  {
   "cell_type": "markdown",
   "metadata": {},
   "source": [
    "| Name            | Description                                         |\n",
    "|-----------------|-----------------------------------------------------|\n",
    "| Royal Flush     | A, K, Q, J, 10, all with the same suit.             |\n",
    "| Straight Flush  | Five cards in sequence, all with the same suit.     |\n",
    "| Four of a Kind  | Four cards of the same rank.                        |\n",
    "| Full House      | Three of a Kind with a Pair.                        |\n",
    "| Flush           | Any five cards of the same suit, not in sequence    |\n",
    "| Straight        | Five cards in a sequence, but not of the same suit. |\n",
    "| Three of a Kind | Three cards of the same rank.                       |\n",
    "| Two Pair        | Two different Pairs.                                |\n",
    "| Pair            | Two cards of the same rank.                         |\n",
    "| High Card       | No other valid combination.                         |"
   ]
  },
  {
   "cell_type": "markdown",
   "metadata": {},
   "source": [
    "### 1. Given a list `hand` containing five strings being the cards, implement a function `poker_hand_ranking` that returns a string with the name of the **highest** combination obtained, accordingly to the table above.\n",
    "\n",
    "#### Examples\n",
    "\n",
    "> poker_hand_ranking([\"10h\", \"Jh\", \"Qh\", \"Ah\", \"Kh\"]) ➞ \"Royal Flush\"<br>\n",
    "> poker_hand_ranking([\"3h\", \"5h\", \"Qs\", \"9h\", \"Ad\"]) ➞ \"High Card\"<br>\n",
    "> poker_hand_ranking([\"10s\", \"10c\", \"8d\", \"10d\", \"10h\"]) ➞ \"Four of a Kind\"<br>"
   ]
  },
  {
   "cell_type": "code",
   "execution_count": 1,
   "metadata": {},
   "outputs": [],
   "source": [
    "#SampleHands\n",
    "p1 = [\"2d\", \"5d\", \"4d\", \"Ad\", \"3d\"]\n",
    "p2 = [\"Kh\", \"2s\", \"5c\", \"10d\", \"Ah\"]"
   ]
  },
  {
   "cell_type": "code",
   "execution_count": 2,
   "metadata": {},
   "outputs": [],
   "source": [
    "from collections import deque"
   ]
  },
  {
   "cell_type": "code",
   "execution_count": 3,
   "metadata": {},
   "outputs": [],
   "source": [
    "def flush(hand):\n",
    "    suit = []\n",
    "    for card in hand:\n",
    "        suit.append(card[-1])\n",
    "    if len(set(suit)) == 1:\n",
    "        return True\n",
    "    else:\n",
    "        return False"
   ]
  },
  {
   "cell_type": "code",
   "execution_count": 4,
   "metadata": {},
   "outputs": [],
   "source": [
    "def straight(hand):\n",
    "    rank = []\n",
    "    for card in hand:\n",
    "        rank.append(card[:-1])\n",
    "#Could have used dictionary to assign rank values.\n",
    "    for value in range(len(rank)):\n",
    "        if rank[value] == 'J':\n",
    "            rank[value] = 11\n",
    "        elif rank[value] == 'Q':\n",
    "            rank[value] = 12\n",
    "        elif rank[value] == 'K':\n",
    "            rank[value] = 13\n",
    "        elif rank[value] == 'A':\n",
    "            rank[value] = 14\n",
    "        else: \n",
    "            rank[value] = int(rank[value])\n",
    "    que = deque(sorted(rank))\n",
    "    if que[0] == 2 and que[-1] == 14:\n",
    "            que.pop()\n",
    "            que.appendleft(1)\n",
    "    i = 0\n",
    "    while i < (len(que)-1):\n",
    "        if (que[i]+1) == que[i+1]:\n",
    "            i +=1\n",
    "        else:\n",
    "            return False\n",
    "    return True\n",
    "        "
   ]
  },
  {
   "cell_type": "code",
   "execution_count": 5,
   "metadata": {},
   "outputs": [],
   "source": [
    "def pairs(hand):\n",
    "    rank = []\n",
    "    for card in hand:\n",
    "        rank.append(card[:-1])\n",
    "    point_value = 0\n",
    "#Redundant for loops. one should give unique values.\n",
    "    for value in rank:\n",
    "        for value2 in rank:\n",
    "            if value == value2:\n",
    "                point_value += 1\n",
    "    return point_value\n",
    "    "
   ]
  },
  {
   "cell_type": "code",
   "execution_count": 6,
   "metadata": {},
   "outputs": [],
   "source": [
    "def high(hand):\n",
    "    rank = []\n",
    "    value = 0\n",
    "    for card in hand:\n",
    "        rank.append(card[:-1])\n",
    "    for i in rank:\n",
    "        if i == 'K':\n",
    "            value +=1\n",
    "        if i == 'A':\n",
    "            value +=1\n",
    "    if value == 2:\n",
    "        return True\n",
    "    else:\n",
    "        return False"
   ]
  },
  {
   "cell_type": "code",
   "execution_count": 7,
   "metadata": {},
   "outputs": [],
   "source": [
    "def poker_hand_ranking(hand):\n",
    "    hand_value = 0\n",
    "    if straight(hand) and flush(hand) and high(hand):\n",
    "        return \"Royal Flush\"\n",
    "    elif straight(hand) and flush(hand):\n",
    "        return \"Straight Flush\"\n",
    "    elif pairs(hand) == 17:\n",
    "        return \"Four of a Kind\"\n",
    "    elif pairs(hand) == 13:\n",
    "        return \"Full House\"\n",
    "    elif flush(hand):\n",
    "        return \"Flush\"\n",
    "    elif straight(hand):\n",
    "        return \"Straight\"\n",
    "    elif pairs(hand) == 11:\n",
    "        return \"Three of a Kind\"\n",
    "    elif pairs(hand) == 9:\n",
    "        return \"Two Pair\"\n",
    "    elif pairs(hand) == 7:\n",
    "        return \"Pair\"\n",
    "    else:\n",
    "        return \"High Card\"    "
   ]
  },
  {
   "cell_type": "code",
   "execution_count": 8,
   "metadata": {},
   "outputs": [
    {
     "data": {
      "text/plain": [
       "'Straight Flush'"
      ]
     },
     "execution_count": 8,
     "metadata": {},
     "output_type": "execute_result"
    }
   ],
   "source": [
    "poker_hand_ranking(p1)"
   ]
  },
  {
   "cell_type": "code",
   "execution_count": 9,
   "metadata": {},
   "outputs": [
    {
     "data": {
      "text/plain": [
       "'High Card'"
      ]
     },
     "execution_count": 9,
     "metadata": {},
     "output_type": "execute_result"
    }
   ],
   "source": [
    "poker_hand_ranking(p2)"
   ]
  },
  {
   "cell_type": "markdown",
   "metadata": {},
   "source": [
    "# **Stretch Content**\n",
    "\n",
    "### 2.  Implement a function `winner_is` that returns the winner given a dictionary with different players and their hands. For example:\n",
    "\n",
    "#### Example\n",
    "\n",
    "We define dictionary like\n",
    "```\n",
    "round_1 = {\"John\" = [\"10h\", \"Jh\", \"Qh\", \"Ah\", \"Kh\"], \n",
    "        \"Peter\" = [\"3h\", \"5h\", \"Qs\", \"9h\", \"Ad\"]\n",
    "}\n",
    "```\n",
    "\n",
    "Our function returns the name of the winner:\n",
    "> winner_is(round_1) -> \"John\"\n",
    "\n",
    "One table can have up to 10 players.\n"
   ]
  },
  {
   "cell_type": "code",
   "execution_count": 16,
   "metadata": {},
   "outputs": [
    {
     "data": {
      "text/plain": [
       "{'Erika': ['9c', 'Js', '3s', 'Kh', '3d'],\n",
       " 'Mauro': ['10h', 'Qc', '4d', '7c', '8d'],\n",
       " 'Wonho': ['5c', 'Kd', '5h', '4s', '7d'],\n",
       " 'Stacey': ['8c', 'Qs', '6h', 'Ac', '4c']}"
      ]
     },
     "execution_count": 16,
     "metadata": {},
     "output_type": "execute_result"
    }
   ],
   "source": [
    "#function from question 3\n",
    "a = distribute_5cards([\"Erika\", \"Mauro\", \"Wonho\", \"Stacey\"])\n",
    "a"
   ]
  },
  {
   "cell_type": "code",
   "execution_count": 17,
   "metadata": {},
   "outputs": [],
   "source": [
    "def winner_is(player_hands):\n",
    "    try:\n",
    "        high_hand = 0\n",
    "        winners = []\n",
    "        Hand_rankings = {\"Royal Flush\":10, \"Straight Flush\":9,\n",
    "                    \"Four of a Kind\":8, \"Full House\":7,\n",
    "                    \"Flush\":6, \"Straight\":5,\n",
    "                    \"Three of a Kind\":4, \"Two Pair\":3,\n",
    "                    \"Pair\":2, \"High Card\":1}\n",
    "        for player in player_hands:\n",
    "            x = poker_hand_ranking(player_hands[player])\n",
    "            if Hand_rankings[x] > high_hand:\n",
    "                high_hand = Hand_rankings[x]\n",
    "                winners.clear()\n",
    "                winners.append(player)\n",
    "            elif Hand_rankings[x] == high_hand:\n",
    "                winners.append(player)\n",
    "        print(f\"The winner is {winners}\")\n",
    "    except:\n",
    "        print(\"This game could not be played.\")"
   ]
  },
  {
   "cell_type": "code",
   "execution_count": 18,
   "metadata": {},
   "outputs": [
    {
     "name": "stdout",
     "output_type": "stream",
     "text": [
      "The winner is ['Erika', 'Wonho']\n"
     ]
    }
   ],
   "source": [
    "winner_is(a)"
   ]
  },
  {
   "cell_type": "markdown",
   "metadata": {},
   "source": [
    "### 3. Create a generator that randomly gives 5 cards to every player given a list of player names\n",
    "#### Example\n",
    "\n",
    "> distribute_cards([\"John\",\"Peter\"])  -> round_1 = {\"John\" = [\"10h\", \"Jh\", \"Qh\", \"Ah\", \"Kh\"], \n",
    "        \"Peter\" = [\"3h\", \"5h\", \"Qs\", \"9h\", \"Ad\"]\n",
    "}"
   ]
  },
  {
   "cell_type": "code",
   "execution_count": 11,
   "metadata": {},
   "outputs": [],
   "source": [
    "import numpy as np"
   ]
  },
  {
   "cell_type": "code",
   "execution_count": 12,
   "metadata": {},
   "outputs": [],
   "source": [
    "def deal(hand_size, players):\n",
    "    try:\n",
    "        i = 0\n",
    "        j = 0\n",
    "        player_hands = []\n",
    "        decklist = [\"Ah 2h 3h 4h 5h 6h 7h 8h 9h 10h Jh Qh Kh As 2s 3s 4s 5s 6s 7s 8s 9s 10s Js Qs Ks\",\n",
    "                    \"Ad 2d 3d 4d 5d 6d 7d 8d 9d 10d Jd Qd Kd Ac 2c 3c 4c 5c 6c 7c 8c 9c 10c Jc Qc Kc\"]\n",
    "        deck = decklist[0].split() + decklist[1].split()\n",
    "        while j < players:\n",
    "            hand = []\n",
    "            while i < hand_size:\n",
    "                a = np.random.randint(len(deck))\n",
    "                hand.append(deck[a])\n",
    "                del deck[a]\n",
    "                i += 1\n",
    "            player_hands.append(hand)\n",
    "            i = 0\n",
    "            j +=1\n",
    "        return player_hands\n",
    "    except:\n",
    "        print(\"Not enough cards to deal. Please reduce players.\")"
   ]
  },
  {
   "cell_type": "code",
   "execution_count": 13,
   "metadata": {},
   "outputs": [],
   "source": [
    "def distribute_5cards(ls):\n",
    "    try:\n",
    "        a = deal(5,len(ls))\n",
    "        _dict = {}\n",
    "        i = 0\n",
    "        for name in ls:\n",
    "            _dict[name] = a[i]\n",
    "            i +=1\n",
    "        return _dict\n",
    "    except:\n",
    "        pass"
   ]
  },
  {
   "cell_type": "code",
   "execution_count": 15,
   "metadata": {},
   "outputs": [
    {
     "data": {
      "text/plain": [
       "{'john': ['Kc', 'Qc', '10h', 'Qd', '7h'],\n",
       " 'bill': ['Qh', '8s', '9c', 'Ac', 'Ks'],\n",
       " 'Janet': ['5d', '2h', '6c', 'Kh', '10s'],\n",
       " 'Jackie': ['6h', '8c', 'Jd', '7s', '10d']}"
      ]
     },
     "execution_count": 15,
     "metadata": {},
     "output_type": "execute_result"
    }
   ],
   "source": [
    "distribute_5cards([\"John\", \"Bill\", \"Janet\", \"Jackie\"])"
   ]
  }
 ],
 "metadata": {
  "kernelspec": {
   "display_name": "Python 3",
   "language": "python",
   "name": "python3"
  },
  "language_info": {
   "codemirror_mode": {
    "name": "ipython",
    "version": 3
   },
   "file_extension": ".py",
   "mimetype": "text/x-python",
   "name": "python",
   "nbconvert_exporter": "python",
   "pygments_lexer": "ipython3",
   "version": "3.8.5"
  }
 },
 "nbformat": 4,
 "nbformat_minor": 4
}
