{
 "cells": [
  {
   "cell_type": "markdown",
   "metadata": {},
   "source": [
    "## Movies\n",
    "In this part of mini-project, we need to have our API-KEY ready because this API won't work without it.\n",
    "\n",
    "We encourage you to look for correct endpoints in [the documentation](https://developers.themoviedb.org/3/account). We can also play around with requests there before copying them to Python."
   ]
  },
  {
   "cell_type": "code",
   "execution_count": 1,
   "metadata": {},
   "outputs": [],
   "source": [
    "import requests as re\n",
    "from IPython.display import JSON\n",
    "import os\n",
    "import json"
   ]
  },
  {
   "cell_type": "markdown",
   "metadata": {},
   "source": [
    "## Demo"
   ]
  },
  {
   "cell_type": "code",
   "execution_count": 2,
   "metadata": {},
   "outputs": [],
   "source": [
    "base = \"https://api.themoviedb.org/3\"\n",
    "url = \"/search/movie\"\n",
    "\n",
    "query = 'titanic'\n",
    "api_key = os.environ['MovieDBAPI']\n",
    "params = f'?query={query}&api_key={api_key}' "
   ]
  },
  {
   "cell_type": "code",
   "execution_count": 3,
   "metadata": {},
   "outputs": [],
   "source": [
    "res = re.get(base+url+params)"
   ]
  },
  {
   "cell_type": "code",
   "execution_count": 4,
   "metadata": {},
   "outputs": [
    {
     "data": {
      "text/plain": [
       "200"
      ]
     },
     "execution_count": 4,
     "metadata": {},
     "output_type": "execute_result"
    }
   ],
   "source": [
    "res.status_code"
   ]
  },
  {
   "cell_type": "code",
   "execution_count": 5,
   "metadata": {},
   "outputs": [
    {
     "data": {
      "application/json": {
       "page": 1,
       "results": [
        {
         "adult": false,
         "backdrop_path": "/yDI6D5ZQh67YU4r2ms8qcSbAviZ.jpg",
         "genre_ids": [
          18,
          10749
         ],
         "id": 597,
         "original_language": "en",
         "original_title": "Titanic",
         "overview": "101-year-old Rose DeWitt Bukater tells the story of her life aboard the Titanic, 84 years later. A young Rose boards the ship with her mother and fiancé. Meanwhile, Jack Dawson and Fabrizio De Rossi win third-class tickets aboard the ship. Rose tells the whole story from Titanic's departure through to its death—on its first and last voyage—on April 15, 1912.",
         "popularity": 66.268,
         "poster_path": "/9xjZS2rlVxm8SFx8kPC3aIGCOYQ.jpg",
         "release_date": "1997-11-18",
         "title": "Titanic",
         "video": false,
         "vote_average": 7.9,
         "vote_count": 18379
        },
        {
         "adult": false,
         "backdrop_path": "/e9XRikkyth0GtG8RkU3XNm0oMsA.jpg",
         "genre_ids": [
          28,
          12,
          53
         ],
         "id": 44918,
         "original_language": "en",
         "original_title": "Titanic II",
         "overview": "On the 100th anniversary of the original voyage, a modern luxury liner christened \"Titanic 2,\" follows the path of its namesake. But when a tsunami hurls an ice berg into the new ship's path, the passengers and crew must fight to avoid a similar fate.",
         "popularity": 20.099,
         "poster_path": "/3bhv6sf3Q8D3tbUvtPCCh3vdYyA.jpg",
         "release_date": "2010-08-07",
         "title": "Titanic 2",
         "video": false,
         "vote_average": 4.5,
         "vote_count": 195
        },
        {
         "adult": false,
         "backdrop_path": "/3oShsRvAyZiQQ5lP2hszWN9Ri0b.jpg",
         "genre_ids": [
          28,
          18,
          10749
         ],
         "id": 16535,
         "original_language": "en",
         "original_title": "Titanic",
         "overview": "Unhappily married, Julia Sturges decides to go to America with her two children on the unsinkable Titanic. Her husband, Richard also arranges passage on the luxury liner so as to have custody of their two children. All this fades to insignificance once the ship hits an iceberg.",
         "popularity": 13.568,
         "poster_path": "/22Fh4UoxP6ejL2IFws76TJ8oYlj.jpg",
         "release_date": "1953-04-11",
         "title": "Titanic",
         "video": false,
         "vote_average": 6.4,
         "vote_count": 72
        },
        {
         "adult": false,
         "backdrop_path": "/82tRA7Vdf7TwdyJYILUh6FuY88L.jpg",
         "genre_ids": [
          99
         ],
         "id": 198901,
         "original_language": "en",
         "original_title": "Titanic: 100 Years On",
         "overview": "The \"unsinkable\" floating palace set sail from Southampton on 10th April 1912 on her maiden voyage to New York. An iceberg ended this monumental journey 5 days later. Only 705 of the passengers and crew survived. This program features an exclusive look at the Sea City Museum Titanic Exhibit in Southampton, interviews from both survivors and the cast of the blockbuster film.",
         "popularity": 19.631,
         "poster_path": "/uAaXfaJpKjmsA3F1KgowcRJPKPM.jpg",
         "release_date": "2012-06-01",
         "title": "Titanic: 100 Years On",
         "video": false,
         "vote_average": 6.8,
         "vote_count": 16
        },
        {
         "adult": false,
         "backdrop_path": "/xSssW53a2s2euCdyI4aEpzyZfb1.jpg",
         "genre_ids": [
          878,
          28,
          12,
          35
         ],
         "id": 467839,
         "original_language": "en",
         "original_title": "Aliens vs. Titanic",
         "overview": "Offering only the finest amenities, the ‘TITAN 1C’ space-cruiser is considered the most luxurious star-liner ever built. Future spring-breakers on board are excited to be touring through space with some of the world’s elite. However, a sudden meteor storm smashes into the hull, and a deadly biological alien life form is let loose on the ship.  Seeking a suitable host, the retrovirus successfully merges with some the passengers, transforming them into seemingly invincible predators with the “touch of death”. As the ship is destroyed, the surviving passengers crash on a remote planet, and they learn that one of them is “infected”. They must quickly band together before it has a chance to slaughter them all.",
         "popularity": 7.678,
         "poster_path": "/blREOd05hyvbiA3Qc6BqCJ7unvC.jpg",
         "release_date": "2017-09-18",
         "title": "Aliens vs. Titanic",
         "video": false,
         "vote_average": 5.1,
         "vote_count": 10
        },
        {
         "adult": false,
         "backdrop_path": "/edHgXEtPbyVIQ7xKb1cvJJqTVhA.jpg",
         "genre_ids": [
          28,
          18,
          36
         ],
         "id": 11021,
         "original_language": "de",
         "original_title": "Titanic",
         "overview": "This little-known German film retells the true story of the British ocean liner that met a tragic fate. Ernst Fritz Fürbringer plays the president of the White Star Line, who unwisely pressed the Titanic's captain (Otto Wernicke) to make the swiftest possible crossing to New York. Interestingly, director Herbert Selpin was arrested by the Gestapo during this film's production, and German censors banned the film for its scenes of panic and terror.",
         "popularity": 4.623,
         "poster_path": "/Al7oIXQ4dZAofBTZWm6OiXS3MEa.jpg",
         "release_date": "1943-11-10",
         "title": "Titanic",
         "video": false,
         "vote_average": 6.1,
         "vote_count": 37
        },
        {
         "adult": false,
         "backdrop_path": "/vldLBVSl4UeaJVykpZW9SW2Ob38.jpg",
         "genre_ids": [
          12
         ],
         "id": 24575,
         "original_language": "en",
         "original_title": "Raise the Titanic",
         "overview": "To obtain a supply of a rare mineral, a ship raising operation is conducted for the only known source, the Titanic.",
         "popularity": 6.845,
         "poster_path": "/beYNLj44FOdV47tomXuJyPkvCKl.jpg",
         "release_date": "1980-08-01",
         "title": "Raise the Titanic",
         "video": false,
         "vote_average": 5.5,
         "vote_count": 50
        },
        {
         "adult": false,
         "backdrop_path": null,
         "genre_ids": [
          10770,
          99
         ],
         "id": 463397,
         "original_language": "en",
         "original_title": "Nazi Titanic",
         "overview": "During a bizarre chapter of WWII, Nazi propaganda minister Joseph Goebbels decided to make a movie based on the sinking of the Titanic. This epic film was so large in scale that the Nazis were forced to divert men, material and ships from the war effort in order to complete it. Titanic was filmed aboard cruise ship SS Cap Arcona in the Baltic Sea. The movie’s director Herbert Selpin was arrested by the Gestapo over comments he made about the ship’s crew and he was questioned by Goebbels. Selpin was found dead the next day in his cell. The Gestapo’s verdict was suicide. Titanic never received the impressive premiere that Goebbels intended, being first shown in Nazi-occupied Paris in 1943. We reveal this little known but fascinating story by looking at the making of the film, as well as the fate of the German ship Cap Arcona.",
         "popularity": 4.129,
         "poster_path": "/pmCnVAP0dQumyDMgCnzEgnpMt1g.jpg",
         "release_date": "2012-04-14",
         "title": "Nazi Titanic",
         "video": false,
         "vote_average": 7,
         "vote_count": 2
        },
        {
         "adult": false,
         "backdrop_path": "/4Sddw1BFQFHOIQZ3DY7QS0mGnVe.jpg",
         "genre_ids": [
          16,
          10751
         ],
         "id": 71235,
         "original_language": "it",
         "original_title": "Titanic: La leggenda continua",
         "overview": "An animated retelling of the worst passenger ship disaster in history. In this version, love blossoms between the upper-class Sir William and the blue-collar Angelica, who is hoping to find romance in America. At the same time, there are also a number of animal passengers, including talking dogs, cats and mice, who are also looking forward to arriving in the New World.",
         "popularity": 4.851,
         "poster_path": "/s1PHRSlos2hIFrtA8Ze0JybJTGb.jpg",
         "release_date": "2000-09-15",
         "title": "Titanic: The Legend Goes On...",
         "video": false,
         "vote_average": 2.1,
         "vote_count": 42
        },
        {
         "adult": false,
         "backdrop_path": null,
         "genre_ids": [
          35
         ],
         "id": 780998,
         "original_language": "en",
         "original_title": "Titanic 2",
         "overview": "The long-awaited sequel to Titanic (1997).",
         "popularity": 4.591,
         "poster_path": "/c9hgLBaY1zzcExnFHqTlXn62bra.jpg",
         "release_date": "2017-04-04",
         "title": "Titanic 2",
         "video": false,
         "vote_average": 0,
         "vote_count": 0
        },
        {
         "adult": false,
         "backdrop_path": null,
         "genre_ids": [
          99
         ],
         "id": 421657,
         "original_language": "en",
         "original_title": "Inside the Titanic",
         "overview": "An ambitious factual drama that reveals moment by moment exactly how the Titanic sank, telling the untold stories of the engineers and stokers who battled the icy water.",
         "popularity": 4.386,
         "poster_path": "/jDHeorRWLuzyXSUGVX47OSdWvVM.jpg",
         "release_date": "2012-03-22",
         "title": "Inside the Titanic",
         "video": false,
         "vote_average": 8,
         "vote_count": 1
        },
        {
         "adult": false,
         "backdrop_path": "/hDfaa3Nj3K3SkXBr8eALYfPT5pF.jpg",
         "genre_ids": [
          99
         ],
         "id": 428950,
         "original_language": "en",
         "original_title": "Drain the Titanic",
         "overview": "Computer-generated imagery and other visualization techniques reveal how it would look if all the water was removed from RMS Titanic's final resting place.",
         "popularity": 3.973,
         "poster_path": "/68Fppsnpc3OmQK8kIustffrxHbq.jpg",
         "release_date": "2016-05-05",
         "title": "Drain the Titanic",
         "video": false,
         "vote_average": 8,
         "vote_count": 4
        },
        {
         "adult": false,
         "backdrop_path": "/mEoU71g0SjTDEiMTyRj1bV2EfIp.jpg",
         "genre_ids": [
          99
         ],
         "id": 213362,
         "original_language": "en",
         "original_title": "Reflections on Titanic",
         "overview": "An enthralling and fast-paced four-part documentary feature that covers the making of one of the last major Hollywood epics; Titanic. Cast and crew speak on setting the sinking of the ship against a classic romance. The feature also examines casting and the young couple headlining the film, DiCaprio's and Winslet's on-set friendship and their differing acting styles, the expansive sets and filming locations, the authenticity of the recreated ship, James Cameron's work and dedication, and budgeting. And many more aspects of the film are overviewed.",
         "popularity": 5.749,
         "poster_path": "/54Cp80F0KtRyLjVR10LgrmhWJma.jpg",
         "release_date": "2012-09-10",
         "title": "Reflections on Titanic",
         "video": false,
         "vote_average": 7.2,
         "vote_count": 16
        },
        {
         "adult": false,
         "backdrop_path": null,
         "genre_ids": [
          35,
          27
         ],
         "id": 4240,
         "original_language": "en",
         "original_title": "Titanic 2000",
         "overview": "The luxury liner Titanic 2000 has set sail on its maiden voyage, and one of the passengers is the vampire Vladamina. Vladamina is searching for a woman she can turn into a vampire queen, and frustrated rock groupie Shari looks to be a perfect target. As various people get seduced and/or killed as the liner continues on its doomed voyage, Shari must chose between eternity as a living dead sex slave or a frigid grave at the bottom of the ocean.",
         "popularity": 3.235,
         "poster_path": null,
         "release_date": "1999-01-01",
         "title": "Titanic 2000",
         "video": false,
         "vote_average": 3.1,
         "vote_count": 7
        },
        {
         "adult": false,
         "backdrop_path": "/sdtfwZulErbQ7y9RVbaOuWVouD6.jpg",
         "genre_ids": [
          36,
          18,
          53,
          10770
         ],
         "id": 86938,
         "original_language": "en",
         "original_title": "S.O.S. Titanic",
         "overview": "The Titanic disaster is depicted as seen through the eyes of one couple in each of the three classes on board.",
         "popularity": 2.547,
         "poster_path": "/eQIaggQnFMayPVrSzADwpki1B2G.jpg",
         "release_date": "1979-09-23",
         "title": "S.O.S. Titanic",
         "video": false,
         "vote_average": 6.4,
         "vote_count": 21
        },
        {
         "adult": false,
         "backdrop_path": null,
         "genre_ids": [
          99,
          36
         ],
         "id": 530108,
         "original_language": "en",
         "original_title": "The Unsinkable Titanic",
         "overview": "On April 10, 1912, the RMS Titanic embarked on its maiden voyage, sailing from Southampton, England, to New York City. One of the largest and most luxurious passenger liners at the time, the Titanic was also equipped with watertight compartments, which led many to consider the ship unsinkable; an anonymous deckhand famously claimed that “God himself could not sink this ship.” On April 14, however, the ship struck an iceberg, and early the next day it sank. Some 1,500 people perished.",
         "popularity": 3.303,
         "poster_path": "/m3py1JoOPM3s3RTRv965tMC8Fqy.jpg",
         "release_date": "2008-11-03",
         "title": "The Unsinkable Titanic",
         "video": false,
         "vote_average": 9,
         "vote_count": 1
        },
        {
         "adult": false,
         "backdrop_path": null,
         "genre_ids": [
          35
         ],
         "id": 428615,
         "original_language": "ro",
         "original_title": "Titanic vals",
         "overview": "Based on a play by Tudor Mușatescu, Titanic Vals is the essence of Romanian genius in comedy, with amazing performances and the beautiful absurd of the quotidian.",
         "popularity": 1.638,
         "poster_path": "/ezr00Sm1H6Qlq7hRrUZQ9IP7PF3.jpg",
         "release_date": "1964-12-02",
         "title": "Titanic Waltz",
         "video": true,
         "vote_average": 7.3,
         "vote_count": 3
        },
        {
         "adult": false,
         "backdrop_path": null,
         "genre_ids": [
          99
         ],
         "id": 46940,
         "original_language": "en",
         "original_title": "Secrets of the Titanic",
         "overview": "Dr. Robert Ballard of Woods Hole Oceanographic Institute and his research team become the first undersea explorers to locate, photograph, and explore the wreckage of the ill-fated HMS Titanic, which sank on its maiden voyage 2 1/2 mile deep in the icy waters of the Atlantic in 1912, taking 1500 passengers and crew with it to a watery grave. Utilizing dazzling state-of-the art equipment and cutting edge expertise they record the decaying remains of the ocean liner once thought \"unsinkable.\"",
         "popularity": 3.181,
         "poster_path": "/yEvumAoCB9Z7o9dAzjxrjcwo2FQ.jpg",
         "release_date": "1986-08-07",
         "title": "Secrets of the Titanic",
         "video": false,
         "vote_average": 6.5,
         "vote_count": 4
        },
        {
         "adult": false,
         "backdrop_path": "/dxdN3RxJRVYzFxVSR0fNhSBqBSL.jpg",
         "genre_ids": [
          99
         ],
         "id": 682666,
         "original_language": "en",
         "original_title": "Back To The Titanic",
         "overview": "Back to the Titanic documents the first manned dives to Titanic in nearly 15 years. New footage reveals fresh decay and sheds light on the ship’s future.",
         "popularity": 2.703,
         "poster_path": "/wqa5qTTX547R9RIsiLbvQww1wkL.jpg",
         "release_date": "2020-02-23",
         "title": "Back To The Titanic",
         "video": false,
         "vote_average": 9,
         "vote_count": 2
        },
        {
         "adult": false,
         "backdrop_path": null,
         "genre_ids": [],
         "id": 125113,
         "original_language": "en",
         "original_title": "Cinematic Titanic: Rattlers",
         "overview": "Something is very wrong in the Southwestern desert! It starts when rogue rattlesnakes attack two young boys, and it goes downhill from there.  The local authorities summon herpetologist Dr. Tom Parkinson to investigate why the snakes are being such jerks. With the help of photographer and fledgling feminist Ann Bradley, the two of them embark on a haphazard and half-assed investigation – and romance. The hunt leads them to a nearby army base and its uncooperative commanding officer, Colonel Stroud. But when marauding rattlers kill two soldiers, the medical officer on the base can no longer keep silent and reveals the terrible secret, unleashing a chain of events, which lead to all kinds of explodey 1976 action, putting an end to the deadly rattlers.  Maybe...",
         "popularity": 3.091,
         "poster_path": null,
         "release_date": "2012-07-17",
         "title": "Cinematic Titanic: Rattlers",
         "video": false,
         "vote_average": 0,
         "vote_count": 0
        }
       ],
       "total_pages": 7,
       "total_results": 133
      },
      "text/plain": [
       "<IPython.core.display.JSON object>"
      ]
     },
     "execution_count": 5,
     "metadata": {
      "application/json": {
       "expanded": false,
       "root": "root"
      }
     },
     "output_type": "execute_result"
    }
   ],
   "source": [
    "a=res.json()\n",
    "JSON(a)"
   ]
  },
  {
   "cell_type": "markdown",
   "metadata": {},
   "source": [
    "## Task\n",
    "Search for you favorite movie and return the information about the movie:\n",
    "- name\n",
    "- release date\n",
    "- runtime\n",
    "- revenue\n",
    "- length of the overview\n",
    "- number of votes\n",
    "- voting average"
   ]
  },
  {
   "cell_type": "code",
   "execution_count": 6,
   "metadata": {},
   "outputs": [],
   "source": [
    "def favourite_movie(movie):\n",
    "\n",
    "    #Identify your movie id in the database\n",
    "    base = \"https://api.themoviedb.org/3\"\n",
    "    url = f\"/search/movie?query={movie}\"\n",
    "    api_key = os.environ['MovieDBAPI']\n",
    "    key = f'&api_key={api_key}' \n",
    "    movie_search = re.get(base+url+key)\n",
    "    if movie_search.status_code != 200:\n",
    "        print(f\"Request failed. Status code : {movie_search.status_code}\") \n",
    "    movie_id = movie_search.json()['results'][0]['id']\n",
    "    \n",
    "    #Get Movie Details:\n",
    "    url2 = f\"/movie/{movie_id}\"\n",
    "    key2 = f'?api_key={api_key}'\n",
    "    movie_details = re.get(base+url2+key2)\n",
    "    movie_info = movie_details.json()\n",
    "\n",
    "    #Print Results\n",
    "    print(movie_info['original_title'])\n",
    "    print(f'Release date : {movie_info[\"release_date\"]}')\n",
    "    print(f\"Runtime : {movie_info['runtime']}\")\n",
    "    print(f\"Total Revenue : {movie_info['revenue']}\")\n",
    "    print(f\"Overview length : {len(movie_info['overview'])} characters\")\n",
    "    print(f\"Number of Votes : {movie_info['vote_count']}\")  \n",
    "    print(f\"Voting Average : {movie_info['vote_average']}\")\n",
    "    "
   ]
  },
  {
   "cell_type": "code",
   "execution_count": 7,
   "metadata": {},
   "outputs": [
    {
     "name": "stdout",
     "output_type": "stream",
     "text": [
      "Jurassic Park\n",
      "Release date : 1993-06-11\n",
      "Runtime : 127\n",
      "Total Revenue : 920100000\n",
      "Overview length : 348 characters\n",
      "Number of Votes : 11647\n",
      "Voting Average : 7.9\n"
     ]
    }
   ],
   "source": [
    "favourite_movie('Jurassic Park')"
   ]
  },
  {
   "cell_type": "markdown",
   "metadata": {},
   "source": [
    "## Task\n",
    "Search for you favorite actor/actress and return the information about him/her:\n",
    "- name\n",
    "- date of birth\n",
    "- place of birth\n",
    "- length of the biography"
   ]
  },
  {
   "cell_type": "code",
   "execution_count": 61,
   "metadata": {},
   "outputs": [],
   "source": []
  },
  {
   "cell_type": "code",
   "execution_count": 8,
   "metadata": {},
   "outputs": [],
   "source": [
    "def favourite_actor(Actor):\n",
    "\n",
    "    #Identify your person id in the database\n",
    "\n",
    "    base = \"https://api.themoviedb.org/3\"\n",
    "    url = f\"/search/person?query={Actor}\"\n",
    "    api_key = os.environ['MovieDBAPI']\n",
    "    key = f'&api_key={api_key}' \n",
    "    person_search = re.get(base+url+key)\n",
    "    if person_search.status_code != 200:\n",
    "        print(f\"Request failed. Status code : {person_search.status_code}\")\n",
    "    person_id = person_search.json()['results'][0]['id']\n",
    "\n",
    "    #Get Person Details:\n",
    "\n",
    "    url2 = f\"/person/{person_id}\"\n",
    "    key2 = f'?api_key={api_key}'\n",
    "    person_details = re.get(base+url2+key2)\n",
    "    person_info = person_details.json()\n",
    "    JSON(person_info)\n",
    "    #Print Results\n",
    "    print(person_info['name'])\n",
    "    print(f\"Birthday : {person_info['birthday']}\")\n",
    "    print(f\"Birthplace : {person_info['place_of_birth']}\")\n",
    "    print(f\"Lenght of Biography : {len(person_info['biography'])} characters\")\n"
   ]
  },
  {
   "cell_type": "code",
   "execution_count": 9,
   "metadata": {},
   "outputs": [
    {
     "name": "stdout",
     "output_type": "stream",
     "text": [
      "Andy Samberg\n",
      "Birthday : 1978-08-18\n",
      "Birthplace : Mill Valley, California, USA\n",
      "Lenght of Biography : 1066 characters\n"
     ]
    }
   ],
   "source": [
    "favourite_actor('Andy Samberg')"
   ]
  },
  {
   "cell_type": "markdown",
   "metadata": {},
   "source": [
    "## Task\n",
    "Search for you favorite tv-show and return the information about it:\n",
    "- name\n",
    "- first air date\n",
    "- number of seasons\n",
    "- number of episodes\n",
    "- genres"
   ]
  },
  {
   "cell_type": "code",
   "execution_count": 10,
   "metadata": {},
   "outputs": [],
   "source": [
    "def favourite_show(show):\n",
    "\n",
    "    #Identify your show id in the database\n",
    "\n",
    "    base = \"https://api.themoviedb.org/3\"\n",
    "    url = f\"/search/tv?query={show}\"\n",
    "    api_key = os.environ['MovieDBAPI']\n",
    "    key = f'&api_key={api_key}' \n",
    "    show_search = re.get(base+url+key)\n",
    "    if show_search.status_code != 200:\n",
    "        print(f\"Request failed. Status code : {show_search.status_code}\")\n",
    "    show_id = show_search.json()['results'][0]['id']\n",
    "\n",
    "    #Get show Details:\n",
    "\n",
    "    url2 = f\"/tv/{show_id}\"\n",
    "    key2 = f'?api_key={api_key}'\n",
    "    show_details = re.get(base+url2+key2)\n",
    "    show_info = show_details.json()\n",
    "    \n",
    "    #Print Results\n",
    "    print(show_info['name'])\n",
    "    print(f\"First Air Date : {show_info['first_air_date']}\")\n",
    "    print(f\"Number of Seasons : {show_info['number_of_seasons']}\")\n",
    "    print(f\"Number of Episodes : {show_info['number_of_episodes']}\")\n",
    "    print(f\"Genres : {[show_info['genres'][types]['name'] for types in range(len(show_info['genres']))]}\")\n"
   ]
  },
  {
   "cell_type": "code",
   "execution_count": 11,
   "metadata": {},
   "outputs": [
    {
     "name": "stdout",
     "output_type": "stream",
     "text": [
      "Stargate SG-1\n",
      "First Air Date : 1997-07-27\n",
      "Number of Seasons : 10\n",
      "Number of Episodes : 214\n",
      "Genres : ['Action & Adventure', 'Sci-Fi & Fantasy', 'Mystery']\n"
     ]
    }
   ],
   "source": [
    "favourite_show('Stargate SG-1')"
   ]
  },
  {
   "cell_type": "code",
   "execution_count": null,
   "metadata": {},
   "outputs": [],
   "source": []
  },
  {
   "cell_type": "markdown",
   "metadata": {},
   "source": [
    "## Task \n",
    "Find top 5 trending:\n",
    "- movies\n",
    "- tv-shows\n",
    "- people"
   ]
  },
  {
   "cell_type": "code",
   "execution_count": 23,
   "metadata": {},
   "outputs": [],
   "source": [
    "def weekly_trending(media):\n",
    "\n",
    "    base = \"https://api.themoviedb.org/3\"\n",
    "    url = f\"/trending/{media}/week\"\n",
    "    api_key = os.environ['MovieDBAPI']\n",
    "    key = f'?api_key={api_key}' \n",
    "    trend_search = re.get(base+url+key)\n",
    "    if trend_search.status_code != 200:\n",
    "        print(f\"Request failed. Status code : {trend_search.status_code}\")\n",
    "        print('Please enter person, tv or movie.')\n",
    "    elif  media == 'all':\n",
    "        print('Please enter person, tv or movie.')\n",
    "    trend_list = trend_search.json()\n",
    "    if media == 'tv':\n",
    "        for i in range(0,5):\n",
    "            print(f\" Number {i+1} : {trend_list['results'][i]['name']}\")\n",
    "    if media == 'movie':\n",
    "        for i in range(0,5):\n",
    "            print(f\" Number {i+1} : {trend_list['results'][i]['title']}\")\n",
    "    if media == 'person':\n",
    "        for i in range(0,5):\n",
    "            print(f\" Number {i+1} : {trend_list['results'][i]['name']}\")\n",
    "\n"
   ]
  },
  {
   "cell_type": "code",
   "execution_count": 24,
   "metadata": {},
   "outputs": [
    {
     "name": "stdout",
     "output_type": "stream",
     "text": [
      "Request failed. Status code : 200\n",
      "Please enter person, tv or movie.\n"
     ]
    }
   ],
   "source": [
    "weekly_trending('all')"
   ]
  },
  {
   "cell_type": "code",
   "execution_count": null,
   "metadata": {},
   "outputs": [],
   "source": []
  }
 ],
 "metadata": {
  "kernelspec": {
   "display_name": "Python 3",
   "language": "python",
   "name": "python3"
  },
  "language_info": {
   "codemirror_mode": {
    "name": "ipython",
    "version": 3
   },
   "file_extension": ".py",
   "mimetype": "text/x-python",
   "name": "python",
   "nbconvert_exporter": "python",
   "pygments_lexer": "ipython3",
   "version": "3.8.5"
  }
 },
 "nbformat": 4,
 "nbformat_minor": 4
}
